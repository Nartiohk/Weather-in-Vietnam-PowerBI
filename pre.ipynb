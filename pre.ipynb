{
 "cells": [
  {
   "cell_type": "code",
   "execution_count": 1,
   "metadata": {},
   "outputs": [
    {
     "data": {
      "text/html": [
       "<div>\n",
       "<style scoped>\n",
       "    .dataframe tbody tr th:only-of-type {\n",
       "        vertical-align: middle;\n",
       "    }\n",
       "\n",
       "    .dataframe tbody tr th {\n",
       "        vertical-align: top;\n",
       "    }\n",
       "\n",
       "    .dataframe thead th {\n",
       "        text-align: right;\n",
       "    }\n",
       "</style>\n",
       "<table border=\"1\" class=\"dataframe\">\n",
       "  <thead>\n",
       "    <tr style=\"text-align: right;\">\n",
       "      <th></th>\n",
       "      <th>province</th>\n",
       "      <th>max</th>\n",
       "      <th>min</th>\n",
       "      <th>wind</th>\n",
       "      <th>wind_d</th>\n",
       "      <th>rain</th>\n",
       "      <th>humidi</th>\n",
       "      <th>cloud</th>\n",
       "      <th>pressure</th>\n",
       "      <th>date</th>\n",
       "    </tr>\n",
       "  </thead>\n",
       "  <tbody>\n",
       "    <tr>\n",
       "      <th>0</th>\n",
       "      <td>Bac Lieu</td>\n",
       "      <td>27</td>\n",
       "      <td>22</td>\n",
       "      <td>17</td>\n",
       "      <td>NNE</td>\n",
       "      <td>6.9</td>\n",
       "      <td>90</td>\n",
       "      <td>71</td>\n",
       "      <td>1010</td>\n",
       "      <td>2009-01-01</td>\n",
       "    </tr>\n",
       "    <tr>\n",
       "      <th>1</th>\n",
       "      <td>Bac Lieu</td>\n",
       "      <td>31</td>\n",
       "      <td>25</td>\n",
       "      <td>20</td>\n",
       "      <td>ENE</td>\n",
       "      <td>0.0</td>\n",
       "      <td>64</td>\n",
       "      <td>24</td>\n",
       "      <td>1010</td>\n",
       "      <td>2010-01-01</td>\n",
       "    </tr>\n",
       "    <tr>\n",
       "      <th>2</th>\n",
       "      <td>Bac Lieu</td>\n",
       "      <td>29</td>\n",
       "      <td>24</td>\n",
       "      <td>14</td>\n",
       "      <td>E</td>\n",
       "      <td>0.0</td>\n",
       "      <td>75</td>\n",
       "      <td>45</td>\n",
       "      <td>1008</td>\n",
       "      <td>2011-01-01</td>\n",
       "    </tr>\n",
       "    <tr>\n",
       "      <th>3</th>\n",
       "      <td>Bac Lieu</td>\n",
       "      <td>30</td>\n",
       "      <td>24</td>\n",
       "      <td>30</td>\n",
       "      <td>E</td>\n",
       "      <td>0.0</td>\n",
       "      <td>79</td>\n",
       "      <td>52</td>\n",
       "      <td>1012</td>\n",
       "      <td>2012-01-01</td>\n",
       "    </tr>\n",
       "    <tr>\n",
       "      <th>4</th>\n",
       "      <td>Bac Lieu</td>\n",
       "      <td>31</td>\n",
       "      <td>25</td>\n",
       "      <td>20</td>\n",
       "      <td>ENE</td>\n",
       "      <td>0.0</td>\n",
       "      <td>70</td>\n",
       "      <td>24</td>\n",
       "      <td>1010</td>\n",
       "      <td>2013-01-01</td>\n",
       "    </tr>\n",
       "  </tbody>\n",
       "</table>\n",
       "</div>"
      ],
      "text/plain": [
       "   province  max  min  wind wind_d  rain  humidi  cloud  pressure        date\n",
       "0  Bac Lieu   27   22    17    NNE   6.9      90     71      1010  2009-01-01\n",
       "1  Bac Lieu   31   25    20    ENE   0.0      64     24      1010  2010-01-01\n",
       "2  Bac Lieu   29   24    14      E   0.0      75     45      1008  2011-01-01\n",
       "3  Bac Lieu   30   24    30      E   0.0      79     52      1012  2012-01-01\n",
       "4  Bac Lieu   31   25    20    ENE   0.0      70     24      1010  2013-01-01"
      ]
     },
     "execution_count": 1,
     "metadata": {},
     "output_type": "execute_result"
    }
   ],
   "source": [
    "import pandas as pd\n",
    "\n",
    "# Read csv file\n",
    "df = pd.read_csv('weather.csv')\n",
    "\n",
    "# Display the first few rows of the dataframe\n",
    "df.head()"
   ]
  },
  {
   "cell_type": "code",
   "execution_count": 2,
   "metadata": {},
   "outputs": [
    {
     "data": {
      "text/plain": [
       "province     object\n",
       "max           int64\n",
       "min           int64\n",
       "wind          int64\n",
       "wind_d       object\n",
       "rain        float64\n",
       "humidi        int64\n",
       "cloud         int64\n",
       "pressure      int64\n",
       "date         object\n",
       "dtype: object"
      ]
     },
     "execution_count": 2,
     "metadata": {},
     "output_type": "execute_result"
    }
   ],
   "source": [
    "df.dtypes"
   ]
  },
  {
   "cell_type": "code",
   "execution_count": 3,
   "metadata": {},
   "outputs": [
    {
     "data": {
      "text/plain": [
       "province            object\n",
       "max                  int64\n",
       "min                  int64\n",
       "wind                 int64\n",
       "wind_d              object\n",
       "rain               float64\n",
       "humidi               int64\n",
       "cloud                int64\n",
       "pressure             int64\n",
       "date        datetime64[ns]\n",
       "dtype: object"
      ]
     },
     "execution_count": 3,
     "metadata": {},
     "output_type": "execute_result"
    }
   ],
   "source": [
    "df['date'] = pd.to_datetime(df['date'])\n",
    "df.dtypes"
   ]
  },
  {
   "cell_type": "code",
   "execution_count": 4,
   "metadata": {},
   "outputs": [
    {
     "data": {
      "text/plain": [
       "province    0\n",
       "max         0\n",
       "min         0\n",
       "wind        0\n",
       "wind_d      0\n",
       "rain        0\n",
       "humidi      0\n",
       "cloud       0\n",
       "pressure    0\n",
       "date        0\n",
       "dtype: int64"
      ]
     },
     "execution_count": 4,
     "metadata": {},
     "output_type": "execute_result"
    }
   ],
   "source": [
    "df.isnull().sum()"
   ]
  },
  {
   "cell_type": "code",
   "execution_count": 5,
   "metadata": {},
   "outputs": [
    {
     "name": "stdout",
     "output_type": "stream",
     "text": [
      "['Bac Lieu' 'Ho Chi Minh City' 'Tam Ky' 'Ben Tre' 'Hoa Binh' 'Tan An'\n",
      " 'Bien Hoa' 'Hong Gai' 'Thai Nguyen' 'Buon Me Thuot' 'Hue' 'Thanh Hoa'\n",
      " 'Ca Mau' 'Long Xuyen' 'Tra Vinh' 'Cam Pha' 'My Tho' 'Tuy Hoa' 'Cam Ranh'\n",
      " 'Nam Dinh' 'Uong Bi' 'Can Tho' 'Nha Trang' 'Viet Tri' 'Chau Doc'\n",
      " 'Phan Rang' 'Vinh' 'Da Lat' 'Phan Thiet' 'Vinh Long' 'Ha Noi' 'Play Cu'\n",
      " 'Vung Tau' 'Hai Duong' 'Qui Nhon' 'Yen Bai' 'Hai Phong' 'Rach Gia'\n",
      " 'Hanoi' 'Soc Trang']\n"
     ]
    }
   ],
   "source": [
    "provinces = df['province'].unique()\n",
    "print(provinces)"
   ]
  },
  {
   "cell_type": "code",
   "execution_count": 6,
   "metadata": {},
   "outputs": [
    {
     "data": {
      "text/html": [
       "<div>\n",
       "<style scoped>\n",
       "    .dataframe tbody tr th:only-of-type {\n",
       "        vertical-align: middle;\n",
       "    }\n",
       "\n",
       "    .dataframe tbody tr th {\n",
       "        vertical-align: top;\n",
       "    }\n",
       "\n",
       "    .dataframe thead th {\n",
       "        text-align: right;\n",
       "    }\n",
       "</style>\n",
       "<table border=\"1\" class=\"dataframe\">\n",
       "  <thead>\n",
       "    <tr style=\"text-align: right;\">\n",
       "      <th></th>\n",
       "      <th>province</th>\n",
       "      <th>max</th>\n",
       "      <th>min</th>\n",
       "      <th>wind</th>\n",
       "      <th>wind_d</th>\n",
       "      <th>rain</th>\n",
       "      <th>humidi</th>\n",
       "      <th>cloud</th>\n",
       "      <th>pressure</th>\n",
       "      <th>date</th>\n",
       "      <th>region</th>\n",
       "    </tr>\n",
       "  </thead>\n",
       "  <tbody>\n",
       "    <tr>\n",
       "      <th>0</th>\n",
       "      <td>Bac Lieu</td>\n",
       "      <td>27</td>\n",
       "      <td>22</td>\n",
       "      <td>17</td>\n",
       "      <td>NNE</td>\n",
       "      <td>6.9</td>\n",
       "      <td>90</td>\n",
       "      <td>71</td>\n",
       "      <td>1010</td>\n",
       "      <td>2009-01-01</td>\n",
       "      <td>Southern</td>\n",
       "    </tr>\n",
       "    <tr>\n",
       "      <th>1</th>\n",
       "      <td>Bac Lieu</td>\n",
       "      <td>31</td>\n",
       "      <td>25</td>\n",
       "      <td>20</td>\n",
       "      <td>ENE</td>\n",
       "      <td>0.0</td>\n",
       "      <td>64</td>\n",
       "      <td>24</td>\n",
       "      <td>1010</td>\n",
       "      <td>2010-01-01</td>\n",
       "      <td>Southern</td>\n",
       "    </tr>\n",
       "    <tr>\n",
       "      <th>2</th>\n",
       "      <td>Bac Lieu</td>\n",
       "      <td>29</td>\n",
       "      <td>24</td>\n",
       "      <td>14</td>\n",
       "      <td>E</td>\n",
       "      <td>0.0</td>\n",
       "      <td>75</td>\n",
       "      <td>45</td>\n",
       "      <td>1008</td>\n",
       "      <td>2011-01-01</td>\n",
       "      <td>Southern</td>\n",
       "    </tr>\n",
       "    <tr>\n",
       "      <th>3</th>\n",
       "      <td>Bac Lieu</td>\n",
       "      <td>30</td>\n",
       "      <td>24</td>\n",
       "      <td>30</td>\n",
       "      <td>E</td>\n",
       "      <td>0.0</td>\n",
       "      <td>79</td>\n",
       "      <td>52</td>\n",
       "      <td>1012</td>\n",
       "      <td>2012-01-01</td>\n",
       "      <td>Southern</td>\n",
       "    </tr>\n",
       "    <tr>\n",
       "      <th>4</th>\n",
       "      <td>Bac Lieu</td>\n",
       "      <td>31</td>\n",
       "      <td>25</td>\n",
       "      <td>20</td>\n",
       "      <td>ENE</td>\n",
       "      <td>0.0</td>\n",
       "      <td>70</td>\n",
       "      <td>24</td>\n",
       "      <td>1010</td>\n",
       "      <td>2013-01-01</td>\n",
       "      <td>Southern</td>\n",
       "    </tr>\n",
       "  </tbody>\n",
       "</table>\n",
       "</div>"
      ],
      "text/plain": [
       "   province  max  min  wind wind_d  rain  humidi  cloud  pressure       date  \\\n",
       "0  Bac Lieu   27   22    17    NNE   6.9      90     71      1010 2009-01-01   \n",
       "1  Bac Lieu   31   25    20    ENE   0.0      64     24      1010 2010-01-01   \n",
       "2  Bac Lieu   29   24    14      E   0.0      75     45      1008 2011-01-01   \n",
       "3  Bac Lieu   30   24    30      E   0.0      79     52      1012 2012-01-01   \n",
       "4  Bac Lieu   31   25    20    ENE   0.0      70     24      1010 2013-01-01   \n",
       "\n",
       "     region  \n",
       "0  Southern  \n",
       "1  Southern  \n",
       "2  Southern  \n",
       "3  Southern  \n",
       "4  Southern  "
      ]
     },
     "execution_count": 6,
     "metadata": {},
     "output_type": "execute_result"
    }
   ],
   "source": [
    "# Tạo từ điển ánh xạ các tỉnh vào các khu vực\n",
    "province_to_region = {\n",
    "    'Bac Lieu': 'Southern', 'Ho Chi Minh City': 'Southern', 'Tam Ky': 'Central', 'Ben Tre': 'Southern',\n",
    "    'Hoa Binh': 'Northern', 'Tan An': 'Southern', 'Bien Hoa': 'Southern', 'Hong Gai': 'Northern',\n",
    "    'Thai Nguyen': 'Northern', 'Buon Me Thuot': 'Central', 'Hue': 'Central', 'Thanh Hoa': 'Northern',\n",
    "    'Ca Mau': 'Southern', 'Long Xuyen': 'Southern', 'Tra Vinh': 'Southern', 'Cam Pha': 'Northern',\n",
    "    'My Tho': 'Southern', 'Tuy Hoa': 'Central', 'Cam Ranh': 'Central', 'Nam Dinh': 'Northern',\n",
    "    'Uong Bi': 'Northern', 'Can Tho': 'Southern', 'Nha Trang': 'Central', 'Viet Tri': 'Northern',\n",
    "    'Chau Doc': 'Southern', 'Phan Rang': 'Central', 'Vinh': 'Northern', 'Da Lat': 'Central',\n",
    "    'Phan Thiet': 'Central', 'Vinh Long': 'Southern', 'Ha Noi': 'Northern', 'Play Cu': 'Central',\n",
    "    'Vung Tau': 'Southern', 'Hai Duong': 'Northern', 'Qui Nhon': 'Central', 'Yen Bai': 'Northern',\n",
    "    'Hai Phong': 'Northern', 'Rach Gia': 'Southern', 'Hanoi': 'Northern', 'Soc Trang': 'Southern'\n",
    "}\n",
    "\n",
    "# Thêm cột 'region' vào dataframe\n",
    "df['region'] = df['province'].map(province_to_region)\n",
    "\n",
    "# Hiển thị vài hàng đầu của dataframe để kiểm tra\n",
    "df.head()"
   ]
  },
  {
   "cell_type": "code",
   "execution_count": 7,
   "metadata": {},
   "outputs": [],
   "source": [
    "df.to_csv('weather_export.csv', index=False)"
   ]
  }
 ],
 "metadata": {
  "kernelspec": {
   "display_name": "Python 3",
   "language": "python",
   "name": "python3"
  },
  "language_info": {
   "codemirror_mode": {
    "name": "ipython",
    "version": 3
   },
   "file_extension": ".py",
   "mimetype": "text/x-python",
   "name": "python",
   "nbconvert_exporter": "python",
   "pygments_lexer": "ipython3",
   "version": "3.12.5"
  }
 },
 "nbformat": 4,
 "nbformat_minor": 2
}
